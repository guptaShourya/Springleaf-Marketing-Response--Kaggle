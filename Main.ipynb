{
 "cells": [
  {
   "cell_type": "code",
   "execution_count": 1,
   "id": "44d519b9",
   "metadata": {},
   "outputs": [],
   "source": [
    "import numpy as np # linear algebra\n",
    "import pandas as pd # data processing\n",
    "import dask.dataframe as dd # data processing\n",
    "import matplotlib.pyplot as plt # data visualisation\n",
    "import seaborn as sns # data visualisation\n",
    "import dataprep # data pre-processing\n",
    "import category_encoders \n",
    "\n",
    "sns.set()"
   ]
  },
  {
   "cell_type": "code",
   "execution_count": 2,
   "id": "9391e10a",
   "metadata": {},
   "outputs": [
    {
     "name": "stderr",
     "output_type": "stream",
     "text": [
      "/opt/anaconda3/lib/python3.8/site-packages/IPython/core/interactiveshell.py:3437: DtypeWarning: Columns (8,9,10,11,12,43,157,196,214,225,228,229,231,235,238) have mixed types.Specify dtype option on import or set low_memory=False.\n",
      "  exec(code_obj, self.user_global_ns, self.user_ns)\n"
     ]
    }
   ],
   "source": [
    "path = 'Data/train.csv' # training data path\n",
    "data = pd.read_csv(path) # read data"
   ]
  },
  {
   "cell_type": "code",
   "execution_count": 3,
   "id": "dcf9e054",
   "metadata": {},
   "outputs": [
    {
     "data": {
      "text/html": [
       "<div>\n",
       "<style scoped>\n",
       "    .dataframe tbody tr th:only-of-type {\n",
       "        vertical-align: middle;\n",
       "    }\n",
       "\n",
       "    .dataframe tbody tr th {\n",
       "        vertical-align: top;\n",
       "    }\n",
       "\n",
       "    .dataframe thead th {\n",
       "        text-align: right;\n",
       "    }\n",
       "</style>\n",
       "<table border=\"1\" class=\"dataframe\">\n",
       "  <thead>\n",
       "    <tr style=\"text-align: right;\">\n",
       "      <th></th>\n",
       "      <th>ID</th>\n",
       "      <th>VAR_0001</th>\n",
       "      <th>VAR_0002</th>\n",
       "      <th>VAR_0003</th>\n",
       "      <th>VAR_0004</th>\n",
       "      <th>VAR_0005</th>\n",
       "      <th>VAR_0006</th>\n",
       "      <th>VAR_0007</th>\n",
       "      <th>VAR_0008</th>\n",
       "      <th>VAR_0009</th>\n",
       "      <th>...</th>\n",
       "      <th>VAR_1926</th>\n",
       "      <th>VAR_1927</th>\n",
       "      <th>VAR_1928</th>\n",
       "      <th>VAR_1929</th>\n",
       "      <th>VAR_1930</th>\n",
       "      <th>VAR_1931</th>\n",
       "      <th>VAR_1932</th>\n",
       "      <th>VAR_1933</th>\n",
       "      <th>VAR_1934</th>\n",
       "      <th>target</th>\n",
       "    </tr>\n",
       "  </thead>\n",
       "  <tbody>\n",
       "    <tr>\n",
       "      <th>0</th>\n",
       "      <td>2</td>\n",
       "      <td>H</td>\n",
       "      <td>224</td>\n",
       "      <td>0</td>\n",
       "      <td>4300</td>\n",
       "      <td>C</td>\n",
       "      <td>0.0</td>\n",
       "      <td>0.0</td>\n",
       "      <td>False</td>\n",
       "      <td>False</td>\n",
       "      <td>...</td>\n",
       "      <td>98</td>\n",
       "      <td>98</td>\n",
       "      <td>998</td>\n",
       "      <td>999999998</td>\n",
       "      <td>998</td>\n",
       "      <td>998</td>\n",
       "      <td>9998</td>\n",
       "      <td>9998</td>\n",
       "      <td>IAPS</td>\n",
       "      <td>0</td>\n",
       "    </tr>\n",
       "    <tr>\n",
       "      <th>1</th>\n",
       "      <td>4</td>\n",
       "      <td>H</td>\n",
       "      <td>7</td>\n",
       "      <td>53</td>\n",
       "      <td>4448</td>\n",
       "      <td>B</td>\n",
       "      <td>1.0</td>\n",
       "      <td>0.0</td>\n",
       "      <td>False</td>\n",
       "      <td>False</td>\n",
       "      <td>...</td>\n",
       "      <td>98</td>\n",
       "      <td>98</td>\n",
       "      <td>998</td>\n",
       "      <td>999999998</td>\n",
       "      <td>998</td>\n",
       "      <td>998</td>\n",
       "      <td>9998</td>\n",
       "      <td>9998</td>\n",
       "      <td>IAPS</td>\n",
       "      <td>0</td>\n",
       "    </tr>\n",
       "    <tr>\n",
       "      <th>2</th>\n",
       "      <td>5</td>\n",
       "      <td>H</td>\n",
       "      <td>116</td>\n",
       "      <td>3</td>\n",
       "      <td>3464</td>\n",
       "      <td>C</td>\n",
       "      <td>0.0</td>\n",
       "      <td>0.0</td>\n",
       "      <td>False</td>\n",
       "      <td>False</td>\n",
       "      <td>...</td>\n",
       "      <td>98</td>\n",
       "      <td>98</td>\n",
       "      <td>998</td>\n",
       "      <td>999999998</td>\n",
       "      <td>998</td>\n",
       "      <td>998</td>\n",
       "      <td>9998</td>\n",
       "      <td>9998</td>\n",
       "      <td>IAPS</td>\n",
       "      <td>0</td>\n",
       "    </tr>\n",
       "    <tr>\n",
       "      <th>3</th>\n",
       "      <td>7</td>\n",
       "      <td>H</td>\n",
       "      <td>240</td>\n",
       "      <td>300</td>\n",
       "      <td>3200</td>\n",
       "      <td>C</td>\n",
       "      <td>0.0</td>\n",
       "      <td>0.0</td>\n",
       "      <td>False</td>\n",
       "      <td>False</td>\n",
       "      <td>...</td>\n",
       "      <td>98</td>\n",
       "      <td>98</td>\n",
       "      <td>998</td>\n",
       "      <td>999999998</td>\n",
       "      <td>998</td>\n",
       "      <td>998</td>\n",
       "      <td>9998</td>\n",
       "      <td>9998</td>\n",
       "      <td>RCC</td>\n",
       "      <td>0</td>\n",
       "    </tr>\n",
       "    <tr>\n",
       "      <th>4</th>\n",
       "      <td>8</td>\n",
       "      <td>R</td>\n",
       "      <td>72</td>\n",
       "      <td>261</td>\n",
       "      <td>2000</td>\n",
       "      <td>N</td>\n",
       "      <td>0.0</td>\n",
       "      <td>0.0</td>\n",
       "      <td>False</td>\n",
       "      <td>False</td>\n",
       "      <td>...</td>\n",
       "      <td>98</td>\n",
       "      <td>98</td>\n",
       "      <td>998</td>\n",
       "      <td>999999998</td>\n",
       "      <td>998</td>\n",
       "      <td>998</td>\n",
       "      <td>9998</td>\n",
       "      <td>9998</td>\n",
       "      <td>BRANCH</td>\n",
       "      <td>1</td>\n",
       "    </tr>\n",
       "    <tr>\n",
       "      <th>5</th>\n",
       "      <td>14</td>\n",
       "      <td>R</td>\n",
       "      <td>4</td>\n",
       "      <td>4</td>\n",
       "      <td>4422</td>\n",
       "      <td>C</td>\n",
       "      <td>0.0</td>\n",
       "      <td>0.0</td>\n",
       "      <td>False</td>\n",
       "      <td>False</td>\n",
       "      <td>...</td>\n",
       "      <td>98</td>\n",
       "      <td>98</td>\n",
       "      <td>998</td>\n",
       "      <td>999999998</td>\n",
       "      <td>998</td>\n",
       "      <td>998</td>\n",
       "      <td>9998</td>\n",
       "      <td>9998</td>\n",
       "      <td>IAPS</td>\n",
       "      <td>0</td>\n",
       "    </tr>\n",
       "    <tr>\n",
       "      <th>6</th>\n",
       "      <td>16</td>\n",
       "      <td>H</td>\n",
       "      <td>60</td>\n",
       "      <td>132</td>\n",
       "      <td>40000</td>\n",
       "      <td>C</td>\n",
       "      <td>1.0</td>\n",
       "      <td>1.0</td>\n",
       "      <td>False</td>\n",
       "      <td>False</td>\n",
       "      <td>...</td>\n",
       "      <td>0</td>\n",
       "      <td>1</td>\n",
       "      <td>0</td>\n",
       "      <td>999999996</td>\n",
       "      <td>400</td>\n",
       "      <td>400</td>\n",
       "      <td>9996</td>\n",
       "      <td>76</td>\n",
       "      <td>IAPS</td>\n",
       "      <td>1</td>\n",
       "    </tr>\n",
       "    <tr>\n",
       "      <th>7</th>\n",
       "      <td>20</td>\n",
       "      <td>R</td>\n",
       "      <td>13</td>\n",
       "      <td>75</td>\n",
       "      <td>3600</td>\n",
       "      <td>B</td>\n",
       "      <td>0.0</td>\n",
       "      <td>0.0</td>\n",
       "      <td>False</td>\n",
       "      <td>False</td>\n",
       "      <td>...</td>\n",
       "      <td>98</td>\n",
       "      <td>98</td>\n",
       "      <td>998</td>\n",
       "      <td>999999998</td>\n",
       "      <td>998</td>\n",
       "      <td>998</td>\n",
       "      <td>9998</td>\n",
       "      <td>9998</td>\n",
       "      <td>IAPS</td>\n",
       "      <td>0</td>\n",
       "    </tr>\n",
       "    <tr>\n",
       "      <th>8</th>\n",
       "      <td>21</td>\n",
       "      <td>R</td>\n",
       "      <td>17</td>\n",
       "      <td>16</td>\n",
       "      <td>2296</td>\n",
       "      <td>N</td>\n",
       "      <td>1.0</td>\n",
       "      <td>1.0</td>\n",
       "      <td>False</td>\n",
       "      <td>False</td>\n",
       "      <td>...</td>\n",
       "      <td>0</td>\n",
       "      <td>97</td>\n",
       "      <td>997</td>\n",
       "      <td>999999997</td>\n",
       "      <td>400</td>\n",
       "      <td>997</td>\n",
       "      <td>9996</td>\n",
       "      <td>90</td>\n",
       "      <td>MOBILE</td>\n",
       "      <td>1</td>\n",
       "    </tr>\n",
       "    <tr>\n",
       "      <th>9</th>\n",
       "      <td>22</td>\n",
       "      <td>R</td>\n",
       "      <td>24</td>\n",
       "      <td>72</td>\n",
       "      <td>450</td>\n",
       "      <td>N</td>\n",
       "      <td>0.0</td>\n",
       "      <td>0.0</td>\n",
       "      <td>False</td>\n",
       "      <td>False</td>\n",
       "      <td>...</td>\n",
       "      <td>98</td>\n",
       "      <td>98</td>\n",
       "      <td>998</td>\n",
       "      <td>999999998</td>\n",
       "      <td>998</td>\n",
       "      <td>998</td>\n",
       "      <td>9998</td>\n",
       "      <td>9998</td>\n",
       "      <td>BRANCH</td>\n",
       "      <td>0</td>\n",
       "    </tr>\n",
       "  </tbody>\n",
       "</table>\n",
       "<p>10 rows × 1934 columns</p>\n",
       "</div>"
      ],
      "text/plain": [
       "   ID VAR_0001  VAR_0002  VAR_0003  VAR_0004 VAR_0005  VAR_0006  VAR_0007  \\\n",
       "0   2        H       224         0      4300        C       0.0       0.0   \n",
       "1   4        H         7        53      4448        B       1.0       0.0   \n",
       "2   5        H       116         3      3464        C       0.0       0.0   \n",
       "3   7        H       240       300      3200        C       0.0       0.0   \n",
       "4   8        R        72       261      2000        N       0.0       0.0   \n",
       "5  14        R         4         4      4422        C       0.0       0.0   \n",
       "6  16        H        60       132     40000        C       1.0       1.0   \n",
       "7  20        R        13        75      3600        B       0.0       0.0   \n",
       "8  21        R        17        16      2296        N       1.0       1.0   \n",
       "9  22        R        24        72       450        N       0.0       0.0   \n",
       "\n",
       "  VAR_0008 VAR_0009  ... VAR_1926 VAR_1927 VAR_1928   VAR_1929  VAR_1930  \\\n",
       "0    False    False  ...       98       98      998  999999998       998   \n",
       "1    False    False  ...       98       98      998  999999998       998   \n",
       "2    False    False  ...       98       98      998  999999998       998   \n",
       "3    False    False  ...       98       98      998  999999998       998   \n",
       "4    False    False  ...       98       98      998  999999998       998   \n",
       "5    False    False  ...       98       98      998  999999998       998   \n",
       "6    False    False  ...        0        1        0  999999996       400   \n",
       "7    False    False  ...       98       98      998  999999998       998   \n",
       "8    False    False  ...        0       97      997  999999997       400   \n",
       "9    False    False  ...       98       98      998  999999998       998   \n",
       "\n",
       "   VAR_1931  VAR_1932  VAR_1933  VAR_1934  target  \n",
       "0       998      9998      9998      IAPS       0  \n",
       "1       998      9998      9998      IAPS       0  \n",
       "2       998      9998      9998      IAPS       0  \n",
       "3       998      9998      9998       RCC       0  \n",
       "4       998      9998      9998    BRANCH       1  \n",
       "5       998      9998      9998      IAPS       0  \n",
       "6       400      9996        76      IAPS       1  \n",
       "7       998      9998      9998      IAPS       0  \n",
       "8       997      9996        90    MOBILE       1  \n",
       "9       998      9998      9998    BRANCH       0  \n",
       "\n",
       "[10 rows x 1934 columns]"
      ]
     },
     "execution_count": 3,
     "metadata": {},
     "output_type": "execute_result"
    }
   ],
   "source": [
    "# pd.set_option('display.max_columns', 100)\n",
    "data.head(10) # display top 10 rows"
   ]
  },
  {
   "cell_type": "code",
   "execution_count": 4,
   "id": "b61efbf3",
   "metadata": {},
   "outputs": [
    {
     "name": "stdout",
     "output_type": "stream",
     "text": [
      "Data has 145231 rows, 1934 columns\n"
     ]
    }
   ],
   "source": [
    "# number of rows and columns in dataset\n",
    "rows = data.shape[0]\n",
    "columns = data.shape[1]\n",
    "print(\"Data has {} rows, {} columns\".format(rows, columns))"
   ]
  },
  {
   "cell_type": "markdown",
   "id": "9c22dbfe",
   "metadata": {},
   "source": [
    "# DATA PREPROCESSING"
   ]
  },
  {
   "cell_type": "markdown",
   "id": "32b39d36",
   "metadata": {},
   "source": [
    "## Handle Nulls"
   ]
  },
  {
   "cell_type": "code",
   "execution_count": 5,
   "id": "41921f74",
   "metadata": {},
   "outputs": [],
   "source": [
    "# number of nulls in dataset\n",
    "nulls = (data.isna().sum()/rows)*100\n",
    "\n",
    "# columns with more than 25% nulls\n",
    "columns_to_remove = []\n",
    "\n",
    "# columns with nulls\n",
    "null_columns = []\n",
    "\n",
    "for i in nulls.index:\n",
    "    if(nulls[i] >= 25):\n",
    "        columns_to_remove.append(i)\n",
    "    elif(nulls[i]>0):\n",
    "        null_columns.append(i)\n"
   ]
  },
  {
   "cell_type": "code",
   "execution_count": 6,
   "id": "5b846678",
   "metadata": {},
   "outputs": [
    {
     "name": "stdout",
     "output_type": "stream",
     "text": [
      "Columns remaining are 1910\n"
     ]
    }
   ],
   "source": [
    "# drop columns with more than 25% of nulls\n",
    "data = data.drop(columns_to_remove, axis = 1)\n",
    "\n",
    "print(\"Columns remaining are {}\".format(data.shape[1]))"
   ]
  },
  {
   "cell_type": "code",
   "execution_count": 7,
   "id": "f0e81420",
   "metadata": {},
   "outputs": [],
   "source": [
    "# dropping rows with nulls (atmost 0.68% values are null in a null_columns)\n",
    "data = data.dropna().reset_index(drop = True)"
   ]
  },
  {
   "cell_type": "markdown",
   "id": "68901221",
   "metadata": {},
   "source": [
    "## Clean Data"
   ]
  },
  {
   "cell_type": "code",
   "execution_count": 8,
   "id": "6e82d52d",
   "metadata": {},
   "outputs": [],
   "source": [
    "# categorical variables\n",
    "cat_vars = []\n",
    "\n",
    "for i in data.columns:\n",
    "    if(data[i].dtype == 'object'):\n",
    "        cat_vars.append(i)"
   ]
  },
  {
   "cell_type": "code",
   "execution_count": 9,
   "id": "aea3e1f8",
   "metadata": {},
   "outputs": [],
   "source": [
    "# columns to drop (with same value across the dataset)\n",
    "to_drop = [\"ID\", \"VAR_0236\", \"VAR_0239\", \"VAR_0075\", \"VAR_0204\", \"VAR_0217\"]\n",
    "\n",
    "for i in cat_vars:\n",
    "    if len(data[i].value_counts().index) == 1:\n",
    "        to_drop.append(i)"
   ]
  },
  {
   "cell_type": "code",
   "execution_count": 10,
   "id": "fbd1f5b7",
   "metadata": {},
   "outputs": [],
   "source": [
    "data = data.drop(to_drop, axis = 1)"
   ]
  },
  {
   "cell_type": "markdown",
   "id": "57f4d47b",
   "metadata": {},
   "source": [
    "## Handle Categorical variables"
   ]
  },
  {
   "cell_type": "code",
   "execution_count": 11,
   "id": "ec02f9df",
   "metadata": {},
   "outputs": [],
   "source": [
    "# encode categorical variable using LeaveOneOutEncoding technique\n",
    "from category_encoders import LeaveOneOutEncoder\n",
    "\n",
    "# columns to encode\n",
    "encode_cols = []\n",
    "\n",
    "# binary categorical columns\n",
    "bin_cat_cols = []\n",
    "\n",
    "for i in data.columns:\n",
    "#     categorical columns remaining\n",
    "    if(i in cat_vars and not (i in to_drop)):\n",
    "        if(len(data[i].value_counts().index)>2):\n",
    "#             non-binary valued columns\n",
    "            encode_cols.append(i)\n",
    "        else:\n",
    "#             binary valued columns\n",
    "            bin_cat_cols.append(i)\n",
    "\n",
    "# intialise encoder\n",
    "encoder = LeaveOneOutEncoder(cols = encode_cols)"
   ]
  },
  {
   "cell_type": "code",
   "execution_count": 12,
   "id": "8adbfc27",
   "metadata": {},
   "outputs": [],
   "source": [
    "# data prep for encoding\n",
    "X = data.drop(['target'], axis = 1)\n",
    "y = data['target']\n",
    "\n",
    "# fit and encode data\n",
    "data = encoder.fit_transform(X, y)\n",
    "data['target'] = y"
   ]
  },
  {
   "cell_type": "code",
   "execution_count": 13,
   "id": "2f651f4f",
   "metadata": {},
   "outputs": [],
   "source": [
    "data.reset_index(drop = True, inplace = True)"
   ]
  },
  {
   "cell_type": "code",
   "execution_count": 14,
   "id": "dfe9b693",
   "metadata": {},
   "outputs": [],
   "source": [
    "# encode binary categorical variables\n",
    "bin_code = {True : 1, False : 0}\n",
    "\n",
    "data = data.replace(bin_code)\n",
    "\n",
    "data['VAR_0466'] = data['VAR_0466'].replace({'I':1, \"-1\":0})"
   ]
  },
  {
   "cell_type": "code",
   "execution_count": 15,
   "id": "1270629d",
   "metadata": {},
   "outputs": [
    {
     "name": "stdout",
     "output_type": "stream",
     "text": [
      "Columns with same minimum and 0.75th percentile are 519\n"
     ]
    }
   ],
   "source": [
    "# remove columns where min value is same as 75th percentile value\n",
    "columns_to_remove = []\n",
    "\n",
    "# threshold\n",
    "threshold_quantile = 0.75\n",
    "for i in data.columns:\n",
    "    if(min(data[i]) == data[i].quantile(threshold_quantile) and i != 'target'):\n",
    "        columns_to_remove.append(i)\n",
    "\n",
    "print(\"Columns with same minimum and {}th percentile are {}\".format(threshold_quantile, len(columns_to_remove)))"
   ]
  },
  {
   "cell_type": "code",
   "execution_count": 16,
   "id": "f5b70cad",
   "metadata": {},
   "outputs": [],
   "source": [
    "data = data.drop(columns_to_remove, axis = 1)"
   ]
  },
  {
   "cell_type": "markdown",
   "id": "c98ad5c9",
   "metadata": {},
   "source": [
    "## Handle Outliers"
   ]
  },
  {
   "cell_type": "code",
   "execution_count": 17,
   "id": "018057a5",
   "metadata": {},
   "outputs": [],
   "source": [
    "def handleOutliers(data, to_return = False):\n",
    "    ''' \n",
    "    Removes outliers from each column and reports the data loss\n",
    "    \n",
    "    Args:\n",
    "        data (DataFrame) : The DataFrame to remove outliers from\n",
    "        to_return (bool) :  - Default value False\n",
    "                            - Whether to return the DataFrame after removing outliers\n",
    "    \n",
    "    Returns:\n",
    "        DataFrame : data free from outliers\n",
    "    '''\n",
    "#     calculate first quantile\n",
    "    Q1 = data.quantile(0.25)\n",
    "#     calculate third quantile\n",
    "    Q3 = data.quantile(0.75)\n",
    "#     calculate inter quartile range\n",
    "    IQR1 = Q3-Q1\n",
    "\n",
    "#     initialise data w/o outliers (drop outliers)\n",
    "    data_c = data[~((data < (Q1-1.5*IQR1))|(data > (Q3+1.5*IQR1))).any(axis = 1)] \n",
    "    \n",
    "#     report data loss\n",
    "    print('Data loss is {}%'.format(((len(data) - len(data_c))/len(data))*100))\n",
    "    \n",
    "    if(to_return):\n",
    "        return data_c.reset_index(drop = True)"
   ]
  },
  {
   "cell_type": "code",
   "execution_count": 18,
   "id": "07b7883a",
   "metadata": {
    "scrolled": false
   },
   "outputs": [
    {
     "name": "stdout",
     "output_type": "stream",
     "text": [
      "Data loss is 100.0%\n"
     ]
    }
   ],
   "source": [
    "handleOutliers(data.drop(['target'], axis = 1))"
   ]
  },
  {
   "cell_type": "markdown",
   "id": "2acbd9cb",
   "metadata": {},
   "source": [
    "### Considering each feature individually for outlier analysis"
   ]
  },
  {
   "cell_type": "code",
   "execution_count": 19,
   "id": "2ea8ff77",
   "metadata": {},
   "outputs": [],
   "source": [
    "def countOutliers(data, column):\n",
    "    ''' \n",
    "    Calculates the number of outliers in given column\n",
    "    \n",
    "    Args:\n",
    "        data (DataFrame) : The dataset in form of Pandas DataFrame\n",
    "        column (string) : The column to report number of outliers in\n",
    "    \n",
    "    Returns:\n",
    "        int : percentage of outliers in column\n",
    "    '''\n",
    "#     calculate first quantile\n",
    "    Q1 = data[column].quantile(0.25)\n",
    "#     calculate third quantile\n",
    "    Q3 = data[column].quantile(0.75)\n",
    "#     calculate inter quartile range\n",
    "    IQR1 = Q3-Q1\n",
    "    \n",
    "#     % of outliers in the column\n",
    "    return (len(data[((data[column] < (Q1-1.5*IQR1))|(data[column] > (Q3+1.5*IQR1)))])/len(data))*100"
   ]
  },
  {
   "cell_type": "code",
   "execution_count": 20,
   "id": "2d959837",
   "metadata": {},
   "outputs": [],
   "source": [
    "# percentage of outliers in each column\n",
    "outliers = {}\n",
    "\n",
    "for column in data.columns:\n",
    "    outliers[column] = countOutliers(data, column)"
   ]
  },
  {
   "cell_type": "code",
   "execution_count": 21,
   "id": "16d863cc",
   "metadata": {},
   "outputs": [
    {
     "name": "stdout",
     "output_type": "stream",
     "text": [
      "Columns with more than 0% of values as Outliers are 927\n"
     ]
    }
   ],
   "source": [
    "# sort in decreasing order\n",
    "outliers = dict(sorted(outliers.items(), key=lambda item: item[1], reverse = True))\n",
    "\n",
    "# threshold percentage of outliers\n",
    "threshold_outliers = 0\n",
    "\n",
    "# remove columns with more than threshold\n",
    "to_drop_outliers = []\n",
    "\n",
    "for i in outliers:\n",
    "    if(outliers[i] <= threshold_outliers):\n",
    "        break\n",
    "    elif(i != 'target'):\n",
    "        to_drop_outliers.append(i)\n",
    "\n",
    "print(\"Columns with more than {}% of values as Outliers are {}\".format(threshold_outliers, len(to_drop_outliers)))"
   ]
  },
  {
   "cell_type": "code",
   "execution_count": 22,
   "id": "b3f56961",
   "metadata": {},
   "outputs": [],
   "source": [
    "# drop columns with oultiers\n",
    "data_c = data.drop(to_drop_outliers, axis = 1)"
   ]
  },
  {
   "cell_type": "code",
   "execution_count": 23,
   "id": "7b617b4f",
   "metadata": {},
   "outputs": [
    {
     "name": "stdout",
     "output_type": "stream",
     "text": [
      "Data loss is 0.0%\n"
     ]
    }
   ],
   "source": [
    "# check presence of outliers\n",
    "handleOutliers(data_c.drop(['target'], axis = 1))"
   ]
  },
  {
   "cell_type": "code",
   "execution_count": 24,
   "id": "5e6d3288",
   "metadata": {},
   "outputs": [],
   "source": [
    "data = data_c"
   ]
  },
  {
   "cell_type": "markdown",
   "id": "1c762248",
   "metadata": {},
   "source": [
    "## Split into Train & Validation parts"
   ]
  },
  {
   "cell_type": "code",
   "execution_count": 37,
   "id": "1dd95d78",
   "metadata": {},
   "outputs": [],
   "source": [
    "from sklearn.model_selection import train_test_split\n",
    "\n",
    "# dependent variables\n",
    "X = data.drop(['target'], axis = 1)\n",
    "# independent variable\n",
    "y = data['target']\n",
    "\n",
    "# split data into train and validation part\n",
    "X_train, X_val, y_train, y_val = train_test_split(X, y, test_size = 0.3, random_state = 5)"
   ]
  },
  {
   "cell_type": "markdown",
   "id": "8f703f7d",
   "metadata": {},
   "source": [
    "## Scale Value"
   ]
  },
  {
   "cell_type": "code",
   "execution_count": 26,
   "id": "ba47a357",
   "metadata": {},
   "outputs": [],
   "source": [
    "from sklearn.preprocessing import StandardScaler\n",
    "\n",
    "# intialise StandardScaler\n",
    "scaler = StandardScaler()\n",
    "\n",
    "# Scale training data\n",
    "X_train_scaled = scaler.fit_transform(X_train)\n",
    "\n",
    "# Scale validation data\n",
    "X_val_scaled = scaler.transform(X_val)"
   ]
  },
  {
   "cell_type": "markdown",
   "id": "da848061",
   "metadata": {},
   "source": [
    "## Dimensionality Reduction"
   ]
  },
  {
   "cell_type": "markdown",
   "id": "59d8efa2",
   "metadata": {},
   "source": [
    "### Hyperparameters : \n",
    "#1 reduceDim : threshold_PCA"
   ]
  },
  {
   "cell_type": "code",
   "execution_count": 27,
   "id": "365d0fd0",
   "metadata": {},
   "outputs": [],
   "source": [
    "from sklearn.decomposition import PCA\n",
    "\n",
    "def reduceDim(X_train, threshold_PCA):\n",
    "    ''' \n",
    "    Calculates number of Principal Components to retain \n",
    "    atleast \"threshold\" variance\n",
    "    \n",
    "    Args:\n",
    "        X_train (DataFrame) : The training dataset in form of Pandas DataFrame\n",
    "        threshold_PCA (float) : Minimum value of variance to retain\n",
    "    \n",
    "    Returns:\n",
    "        PCA object : The PCA instance to transform validation and test data\n",
    "        DataFrame : The transformed training dataset\n",
    "    '''\n",
    "#     intialise PCA\n",
    "    pca = PCA(n_components = threshold_PCA)\n",
    "#     fit and transform training data\n",
    "    X_train_PCA = pca.fit_transform(X_train)\n",
    "    \n",
    "#     print info\n",
    "    print(\"Number of columns retained : {} \\nNumber of columns in original dataset : {}\"\n",
    "          .format(X_train_PCA.shape[1], X_train.shape[1]))\n",
    "    \n",
    "    return (pca, X_train_PCA)"
   ]
  },
  {
   "cell_type": "code",
   "execution_count": 38,
   "id": "12b3ae3b",
   "metadata": {},
   "outputs": [
    {
     "name": "stdout",
     "output_type": "stream",
     "text": [
      "Number of columns retained : 119 \n",
      "Number of columns in original dataset : 445\n"
     ]
    }
   ],
   "source": [
    "pca, X_train_PCA = reduceDim(X_train_scaled, 0.99)"
   ]
  },
  {
   "cell_type": "code",
   "execution_count": 39,
   "id": "1f10ec90",
   "metadata": {},
   "outputs": [],
   "source": [
    "# apply PCA to validation data\n",
    "X_val_PCA = pca.transform(X_val_scaled)"
   ]
  },
  {
   "cell_type": "markdown",
   "id": "0220144e",
   "metadata": {},
   "source": [
    "## Handle Class Imbalance"
   ]
  },
  {
   "cell_type": "code",
   "execution_count": 32,
   "id": "9622cd52",
   "metadata": {
    "scrolled": true
   },
   "outputs": [],
   "source": [
    "from imblearn.over_sampling import SMOTE #to over sample minority class (outcome = 1)\n",
    "from imblearn.under_sampling import RandomUnderSampler #to under sample majority class (outcome = 0)"
   ]
  },
  {
   "cell_type": "code",
   "execution_count": 33,
   "id": "dde1223e",
   "metadata": {},
   "outputs": [
    {
     "data": {
      "image/png": "[encoded data removed]",
      "text/plain": [
       "<Figure size 720x504 with 2 Axes>"
      ]
     },
     "metadata": {},
     "output_type": "display_data"
    }
   ],
   "source": [
    "f, ax = plt.subplots(nrows = 1, ncols = 2, figsize = (10, 7)) # set up plot \n",
    "\n",
    "# visualise distribution in Ytrain\n",
    "\n",
    "sns.countplot(x = y_train, ax = ax[0]) # plot bar plot\n",
    "\n",
    "# plot a pie chart\n",
    "ax[1].pie(x = y_train.value_counts().values, labels = y_train.value_counts().index, autopct = \"%.2f%%\")\n",
    "ax[1].set_title(\"Percentage distribution\") # set title\n",
    "\n",
    "# display plots\n",
    "plt.show()"
   ]
  },
  {
   "cell_type": "code",
   "execution_count": 45,
   "id": "5f4e4422",
   "metadata": {},
   "outputs": [],
   "source": [
    "# apply SMOTE to balance target variable\n",
    "smote = SMOTE(sampling_strategy = 1, k_neighbors = 5, random_state = 9)\n",
    "# undersample Majority class (target = 1)\n",
    "under = RandomUnderSampler(sampling_strategy = 1, random_state = 9) \n",
    "\n",
    "X_train_bal, y_train_bal = smote.fit_resample(X_train_PCA, y_train) #apply oversampling\n",
    "X_train_bal, y_train_bal = under.fit_resample(X_train_bal, y_train_bal) #apply undersampling"
   ]
  },
  {
   "cell_type": "markdown",
   "id": "55f152c4",
   "metadata": {},
   "source": [
    "## Correct Skewness"
   ]
  },
  {
   "cell_type": "code",
   "execution_count": 82,
   "id": "5189d420",
   "metadata": {},
   "outputs": [],
   "source": [
    "def removeSkew(X, skew_index):\n",
    "    ''' \n",
    "    Removes columns with skew distribution using \"skew_index\" array\n",
    "    \n",
    "    Args:\n",
    "        X (Numpy Array) : The dataset to remove skew columns from\n",
    "        skew_index (Numpy Array) : List of columns to remove from \"X\"\n",
    "    \n",
    "    Returns:\n",
    "        Numpy Array : The data without skew columns\n",
    "    '''\n",
    "    return np.array(pd.DataFrame(X).drop(skew_index, axis=1))"
   ]
  },
  {
   "cell_type": "code",
   "execution_count": 83,
   "id": "c6eb43de",
   "metadata": {
    "scrolled": true
   },
   "outputs": [
    {
     "name": "stdout",
     "output_type": "stream",
     "text": [
      "Number of columns with skew distribution : 13\n"
     ]
    }
   ],
   "source": [
    "# conver NP array to pandas DF\n",
    "skew = pd.DataFrame(X_train_bal).skew()\n",
    "\n",
    "# columns with asymmetrical distribution\n",
    "skew_index = np.array(skew[~((skew>=-0.5) & (skew <= 0.5))].index)\n",
    "\n",
    "print(\"Number of columns with skew distribution : {}\".format(len(skew_index)))\n",
    "\n",
    "# remove skewed columns\n",
    "X_train_normal = removeSkew(X_train_bal, skew_index)\n",
    "X_val_normal = removeSkew(X_val_PCA, skew_index)"
   ]
  },
  {
   "cell_type": "markdown",
   "id": "e463f278",
   "metadata": {},
   "source": [
    "# Machine Learning"
   ]
  },
  {
   "cell_type": "code",
   "execution_count": null,
   "id": "fb49129a",
   "metadata": {},
   "outputs": [],
   "source": [
    "from sklearn.linear_model import LogisticRegression\n",
    "from sklearn.model_selection import GridSearchCV #import GridSearchCV\n",
    "\n",
    "params = {'C' : [0.0001, 0.0003, 0.0005, 0.001, 0.003, 0.005, 0.01, 0.03, 0.05, 0.1, 0.3, 0.5]} # values of C parameter in LR to try for\n",
    "\n",
    "clf_lr = GridSearchCV(LogisticRegression(), params) # Logistic Regression\n",
    "\n",
    "clf_lr.fit(Xtrain, Ytrain) # train LR model"
   ]
  }
 ],
 "metadata": {
  "kernelspec": {
   "display_name": "Python 3",
   "language": "python",
   "name": "python3"
  },
  "language_info": {
   "codemirror_mode": {
    "name": "ipython",
    "version": 3
   },
   "file_extension": ".py",
   "mimetype": "text/x-python",
   "name": "python",
   "nbconvert_exporter": "python",
   "pygments_lexer": "ipython3",
   "version": "3.8.8"
  }
 },
 "nbformat": 4,
 "nbformat_minor": 5
}

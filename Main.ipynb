{
 "cells": [
  {
   "cell_type": "code",
   "execution_count": 1,
   "id": "44d519b9",
   "metadata": {},
   "outputs": [
    {
     "data": {
      "application/javascript": [
       "if (!(\"Notification\" in window)) {\n",
       "    alert(\"This browser does not support desktop notifications, so the %%notify magic will not work.\");\n",
       "} else if (Notification.permission !== 'granted' && Notification.permission !== 'denied') {\n",
       "    Notification.requestPermission(function (permission) {\n",
       "        if(!('permission' in Notification)) {\n",
       "            Notification.permission = permission;\n",
       "        }\n",
       "    })\n",
       "}\n"
      ],
      "text/plain": [
       "<IPython.core.display.Javascript object>"
      ]
     },
     "metadata": {},
     "output_type": "display_data"
    }
   ],
   "source": [
    "import numpy as np # linear algebra\n",
    "import pandas as pd # data processing\n",
    "import dask.dataframe as dd # data processing\n",
    "import matplotlib.pyplot as plt # data visualisation\n",
    "import seaborn as sns # data visualisation\n",
    "import dataprep # data pre-processing\n",
    "import category_encoders \n",
    "\n",
    "sns.set()\n",
    "%load_ext jupyternotify"
   ]
  },
  {
   "cell_type": "code",
   "execution_count": 2,
   "id": "9391e10a",
   "metadata": {},
   "outputs": [
    {
     "name": "stderr",
     "output_type": "stream",
     "text": [
      "/opt/anaconda3/lib/python3.8/site-packages/IPython/core/interactiveshell.py:3437: DtypeWarning: Columns (8,9,10,11,12,43,157,196,214,225,228,229,231,235,238) have mixed types.Specify dtype option on import or set low_memory=False.\n",
      "  exec(code_obj, self.user_global_ns, self.user_ns)\n"
     ]
    }
   ],
   "source": [
    "path = 'Data/train.csv' # training data path\n",
    "data = pd.read_csv(path) # read data"
   ]
  },
  {
   "cell_type": "code",
   "execution_count": 3,
   "id": "dcf9e054",
   "metadata": {},
   "outputs": [
    {
     "data": {
      "text/html": [
       "<div>\n",
       "<style scoped>\n",
       "    .dataframe tbody tr th:only-of-type {\n",
       "        vertical-align: middle;\n",
       "    }\n",
       "\n",
       "    .dataframe tbody tr th {\n",
       "        vertical-align: top;\n",
       "    }\n",
       "\n",
       "    .dataframe thead th {\n",
       "        text-align: right;\n",
       "    }\n",
       "</style>\n",
       "<table border=\"1\" class=\"dataframe\">\n",
       "  <thead>\n",
       "    <tr style=\"text-align: right;\">\n",
       "      <th></th>\n",
       "      <th>ID</th>\n",
       "      <th>VAR_0001</th>\n",
       "      <th>VAR_0002</th>\n",
       "      <th>VAR_0003</th>\n",
       "      <th>VAR_0004</th>\n",
       "      <th>VAR_0005</th>\n",
       "      <th>VAR_0006</th>\n",
       "      <th>VAR_0007</th>\n",
       "      <th>VAR_0008</th>\n",
       "      <th>VAR_0009</th>\n",
       "      <th>...</th>\n",
       "      <th>VAR_1926</th>\n",
       "      <th>VAR_1927</th>\n",
       "      <th>VAR_1928</th>\n",
       "      <th>VAR_1929</th>\n",
       "      <th>VAR_1930</th>\n",
       "      <th>VAR_1931</th>\n",
       "      <th>VAR_1932</th>\n",
       "      <th>VAR_1933</th>\n",
       "      <th>VAR_1934</th>\n",
       "      <th>target</th>\n",
       "    </tr>\n",
       "  </thead>\n",
       "  <tbody>\n",
       "    <tr>\n",
       "      <th>0</th>\n",
       "      <td>2</td>\n",
       "      <td>H</td>\n",
       "      <td>224</td>\n",
       "      <td>0</td>\n",
       "      <td>4300</td>\n",
       "      <td>C</td>\n",
       "      <td>0.0</td>\n",
       "      <td>0.0</td>\n",
       "      <td>False</td>\n",
       "      <td>False</td>\n",
       "      <td>...</td>\n",
       "      <td>98</td>\n",
       "      <td>98</td>\n",
       "      <td>998</td>\n",
       "      <td>999999998</td>\n",
       "      <td>998</td>\n",
       "      <td>998</td>\n",
       "      <td>9998</td>\n",
       "      <td>9998</td>\n",
       "      <td>IAPS</td>\n",
       "      <td>0</td>\n",
       "    </tr>\n",
       "    <tr>\n",
       "      <th>1</th>\n",
       "      <td>4</td>\n",
       "      <td>H</td>\n",
       "      <td>7</td>\n",
       "      <td>53</td>\n",
       "      <td>4448</td>\n",
       "      <td>B</td>\n",
       "      <td>1.0</td>\n",
       "      <td>0.0</td>\n",
       "      <td>False</td>\n",
       "      <td>False</td>\n",
       "      <td>...</td>\n",
       "      <td>98</td>\n",
       "      <td>98</td>\n",
       "      <td>998</td>\n",
       "      <td>999999998</td>\n",
       "      <td>998</td>\n",
       "      <td>998</td>\n",
       "      <td>9998</td>\n",
       "      <td>9998</td>\n",
       "      <td>IAPS</td>\n",
       "      <td>0</td>\n",
       "    </tr>\n",
       "    <tr>\n",
       "      <th>2</th>\n",
       "      <td>5</td>\n",
       "      <td>H</td>\n",
       "      <td>116</td>\n",
       "      <td>3</td>\n",
       "      <td>3464</td>\n",
       "      <td>C</td>\n",
       "      <td>0.0</td>\n",
       "      <td>0.0</td>\n",
       "      <td>False</td>\n",
       "      <td>False</td>\n",
       "      <td>...</td>\n",
       "      <td>98</td>\n",
       "      <td>98</td>\n",
       "      <td>998</td>\n",
       "      <td>999999998</td>\n",
       "      <td>998</td>\n",
       "      <td>998</td>\n",
       "      <td>9998</td>\n",
       "      <td>9998</td>\n",
       "      <td>IAPS</td>\n",
       "      <td>0</td>\n",
       "    </tr>\n",
       "    <tr>\n",
       "      <th>3</th>\n",
       "      <td>7</td>\n",
       "      <td>H</td>\n",
       "      <td>240</td>\n",
       "      <td>300</td>\n",
       "      <td>3200</td>\n",
       "      <td>C</td>\n",
       "      <td>0.0</td>\n",
       "      <td>0.0</td>\n",
       "      <td>False</td>\n",
       "      <td>False</td>\n",
       "      <td>...</td>\n",
       "      <td>98</td>\n",
       "      <td>98</td>\n",
       "      <td>998</td>\n",
       "      <td>999999998</td>\n",
       "      <td>998</td>\n",
       "      <td>998</td>\n",
       "      <td>9998</td>\n",
       "      <td>9998</td>\n",
       "      <td>RCC</td>\n",
       "      <td>0</td>\n",
       "    </tr>\n",
       "    <tr>\n",
       "      <th>4</th>\n",
       "      <td>8</td>\n",
       "      <td>R</td>\n",
       "      <td>72</td>\n",
       "      <td>261</td>\n",
       "      <td>2000</td>\n",
       "      <td>N</td>\n",
       "      <td>0.0</td>\n",
       "      <td>0.0</td>\n",
       "      <td>False</td>\n",
       "      <td>False</td>\n",
       "      <td>...</td>\n",
       "      <td>98</td>\n",
       "      <td>98</td>\n",
       "      <td>998</td>\n",
       "      <td>999999998</td>\n",
       "      <td>998</td>\n",
       "      <td>998</td>\n",
       "      <td>9998</td>\n",
       "      <td>9998</td>\n",
       "      <td>BRANCH</td>\n",
       "      <td>1</td>\n",
       "    </tr>\n",
       "    <tr>\n",
       "      <th>5</th>\n",
       "      <td>14</td>\n",
       "      <td>R</td>\n",
       "      <td>4</td>\n",
       "      <td>4</td>\n",
       "      <td>4422</td>\n",
       "      <td>C</td>\n",
       "      <td>0.0</td>\n",
       "      <td>0.0</td>\n",
       "      <td>False</td>\n",
       "      <td>False</td>\n",
       "      <td>...</td>\n",
       "      <td>98</td>\n",
       "      <td>98</td>\n",
       "      <td>998</td>\n",
       "      <td>999999998</td>\n",
       "      <td>998</td>\n",
       "      <td>998</td>\n",
       "      <td>9998</td>\n",
       "      <td>9998</td>\n",
       "      <td>IAPS</td>\n",
       "      <td>0</td>\n",
       "    </tr>\n",
       "    <tr>\n",
       "      <th>6</th>\n",
       "      <td>16</td>\n",
       "      <td>H</td>\n",
       "      <td>60</td>\n",
       "      <td>132</td>\n",
       "      <td>40000</td>\n",
       "      <td>C</td>\n",
       "      <td>1.0</td>\n",
       "      <td>1.0</td>\n",
       "      <td>False</td>\n",
       "      <td>False</td>\n",
       "      <td>...</td>\n",
       "      <td>0</td>\n",
       "      <td>1</td>\n",
       "      <td>0</td>\n",
       "      <td>999999996</td>\n",
       "      <td>400</td>\n",
       "      <td>400</td>\n",
       "      <td>9996</td>\n",
       "      <td>76</td>\n",
       "      <td>IAPS</td>\n",
       "      <td>1</td>\n",
       "    </tr>\n",
       "    <tr>\n",
       "      <th>7</th>\n",
       "      <td>20</td>\n",
       "      <td>R</td>\n",
       "      <td>13</td>\n",
       "      <td>75</td>\n",
       "      <td>3600</td>\n",
       "      <td>B</td>\n",
       "      <td>0.0</td>\n",
       "      <td>0.0</td>\n",
       "      <td>False</td>\n",
       "      <td>False</td>\n",
       "      <td>...</td>\n",
       "      <td>98</td>\n",
       "      <td>98</td>\n",
       "      <td>998</td>\n",
       "      <td>999999998</td>\n",
       "      <td>998</td>\n",
       "      <td>998</td>\n",
       "      <td>9998</td>\n",
       "      <td>9998</td>\n",
       "      <td>IAPS</td>\n",
       "      <td>0</td>\n",
       "    </tr>\n",
       "    <tr>\n",
       "      <th>8</th>\n",
       "      <td>21</td>\n",
       "      <td>R</td>\n",
       "      <td>17</td>\n",
       "      <td>16</td>\n",
       "      <td>2296</td>\n",
       "      <td>N</td>\n",
       "      <td>1.0</td>\n",
       "      <td>1.0</td>\n",
       "      <td>False</td>\n",
       "      <td>False</td>\n",
       "      <td>...</td>\n",
       "      <td>0</td>\n",
       "      <td>97</td>\n",
       "      <td>997</td>\n",
       "      <td>999999997</td>\n",
       "      <td>400</td>\n",
       "      <td>997</td>\n",
       "      <td>9996</td>\n",
       "      <td>90</td>\n",
       "      <td>MOBILE</td>\n",
       "      <td>1</td>\n",
       "    </tr>\n",
       "    <tr>\n",
       "      <th>9</th>\n",
       "      <td>22</td>\n",
       "      <td>R</td>\n",
       "      <td>24</td>\n",
       "      <td>72</td>\n",
       "      <td>450</td>\n",
       "      <td>N</td>\n",
       "      <td>0.0</td>\n",
       "      <td>0.0</td>\n",
       "      <td>False</td>\n",
       "      <td>False</td>\n",
       "      <td>...</td>\n",
       "      <td>98</td>\n",
       "      <td>98</td>\n",
       "      <td>998</td>\n",
       "      <td>999999998</td>\n",
       "      <td>998</td>\n",
       "      <td>998</td>\n",
       "      <td>9998</td>\n",
       "      <td>9998</td>\n",
       "      <td>BRANCH</td>\n",
       "      <td>0</td>\n",
       "    </tr>\n",
       "  </tbody>\n",
       "</table>\n",
       "<p>10 rows × 1934 columns</p>\n",
       "</div>"
      ],
      "text/plain": [
       "   ID VAR_0001  VAR_0002  VAR_0003  VAR_0004 VAR_0005  VAR_0006  VAR_0007  \\\n",
       "0   2        H       224         0      4300        C       0.0       0.0   \n",
       "1   4        H         7        53      4448        B       1.0       0.0   \n",
       "2   5        H       116         3      3464        C       0.0       0.0   \n",
       "3   7        H       240       300      3200        C       0.0       0.0   \n",
       "4   8        R        72       261      2000        N       0.0       0.0   \n",
       "5  14        R         4         4      4422        C       0.0       0.0   \n",
       "6  16        H        60       132     40000        C       1.0       1.0   \n",
       "7  20        R        13        75      3600        B       0.0       0.0   \n",
       "8  21        R        17        16      2296        N       1.0       1.0   \n",
       "9  22        R        24        72       450        N       0.0       0.0   \n",
       "\n",
       "  VAR_0008 VAR_0009  ... VAR_1926 VAR_1927 VAR_1928   VAR_1929  VAR_1930  \\\n",
       "0    False    False  ...       98       98      998  999999998       998   \n",
       "1    False    False  ...       98       98      998  999999998       998   \n",
       "2    False    False  ...       98       98      998  999999998       998   \n",
       "3    False    False  ...       98       98      998  999999998       998   \n",
       "4    False    False  ...       98       98      998  999999998       998   \n",
       "5    False    False  ...       98       98      998  999999998       998   \n",
       "6    False    False  ...        0        1        0  999999996       400   \n",
       "7    False    False  ...       98       98      998  999999998       998   \n",
       "8    False    False  ...        0       97      997  999999997       400   \n",
       "9    False    False  ...       98       98      998  999999998       998   \n",
       "\n",
       "   VAR_1931  VAR_1932  VAR_1933  VAR_1934  target  \n",
       "0       998      9998      9998      IAPS       0  \n",
       "1       998      9998      9998      IAPS       0  \n",
       "2       998      9998      9998      IAPS       0  \n",
       "3       998      9998      9998       RCC       0  \n",
       "4       998      9998      9998    BRANCH       1  \n",
       "5       998      9998      9998      IAPS       0  \n",
       "6       400      9996        76      IAPS       1  \n",
       "7       998      9998      9998      IAPS       0  \n",
       "8       997      9996        90    MOBILE       1  \n",
       "9       998      9998      9998    BRANCH       0  \n",
       "\n",
       "[10 rows x 1934 columns]"
      ]
     },
     "execution_count": 3,
     "metadata": {},
     "output_type": "execute_result"
    }
   ],
   "source": [
    "# pd.set_option('display.max_columns', 100)\n",
    "data.head(10) # display top 10 rows"
   ]
  },
  {
   "cell_type": "code",
   "execution_count": 4,
   "id": "b61efbf3",
   "metadata": {},
   "outputs": [
    {
     "name": "stdout",
     "output_type": "stream",
     "text": [
      "Data has 145231 rows, 1934 columns\n"
     ]
    }
   ],
   "source": [
    "# number of rows and columns in dataset\n",
    "rows = data.shape[0]\n",
    "columns = data.shape[1]\n",
    "print(\"Data has {} rows, {} columns\".format(rows, columns))"
   ]
  },
  {
   "cell_type": "markdown",
   "id": "9c22dbfe",
   "metadata": {},
   "source": [
    "# DATA PREPROCESSING"
   ]
  },
  {
   "cell_type": "markdown",
   "id": "32b39d36",
   "metadata": {},
   "source": [
    "## Handle Nulls"
   ]
  },
  {
   "cell_type": "code",
   "execution_count": 5,
   "id": "41921f74",
   "metadata": {},
   "outputs": [],
   "source": [
    "# number of nulls in dataset\n",
    "nulls = (data.isna().sum()/rows)*100\n",
    "\n",
    "# columns with more than 25% nulls\n",
    "columns_to_remove = []\n",
    "\n",
    "# columns with nulls\n",
    "null_columns = []\n",
    "\n",
    "for i in nulls.index:\n",
    "    if(nulls[i] >= 25):\n",
    "        columns_to_remove.append(i)\n",
    "    elif(nulls[i]>0):\n",
    "        null_columns.append(i)\n"
   ]
  },
  {
   "cell_type": "code",
   "execution_count": 6,
   "id": "5b846678",
   "metadata": {},
   "outputs": [
    {
     "name": "stdout",
     "output_type": "stream",
     "text": [
      "Columns remaining are 1910\n"
     ]
    }
   ],
   "source": [
    "# drop columns with more than 25% of nulls\n",
    "data = data.drop(columns_to_remove, axis = 1)\n",
    "\n",
    "print(\"Columns remaining are {}\".format(data.shape[1]))"
   ]
  },
  {
   "cell_type": "code",
   "execution_count": 7,
   "id": "f0e81420",
   "metadata": {},
   "outputs": [],
   "source": [
    "# dropping rows with nulls (atmost 0.68% values are null in a null_columns)\n",
    "data = data.dropna().reset_index(drop = True)"
   ]
  },
  {
   "cell_type": "markdown",
   "id": "68901221",
   "metadata": {},
   "source": [
    "## Clean Data"
   ]
  },
  {
   "cell_type": "code",
   "execution_count": 8,
   "id": "6e82d52d",
   "metadata": {},
   "outputs": [],
   "source": [
    "# categorical variables\n",
    "cat_vars = []\n",
    "\n",
    "for i in data.columns:\n",
    "    if(data[i].dtype == 'object'):\n",
    "        cat_vars.append(i)"
   ]
  },
  {
   "cell_type": "code",
   "execution_count": 9,
   "id": "aea3e1f8",
   "metadata": {},
   "outputs": [],
   "source": [
    "# columns to drop (with same value across the dataset)\n",
    "to_drop = [\"ID\", \"VAR_0236\", \"VAR_0239\", \"VAR_0075\", \"VAR_0204\", \"VAR_0217\"]\n",
    "\n",
    "for i in cat_vars:\n",
    "    if len(data[i].value_counts().index) == 1:\n",
    "        to_drop.append(i)"
   ]
  },
  {
   "cell_type": "code",
   "execution_count": 10,
   "id": "fbd1f5b7",
   "metadata": {},
   "outputs": [],
   "source": [
    "data = data.drop(to_drop, axis = 1)"
   ]
  },
  {
   "cell_type": "markdown",
   "id": "1c762248",
   "metadata": {},
   "source": [
    "## Split into Train & Validation parts"
   ]
  },
  {
   "cell_type": "code",
   "execution_count": 11,
   "id": "1dd95d78",
   "metadata": {},
   "outputs": [],
   "source": [
    "from sklearn.model_selection import train_test_split\n",
    "\n",
    "# dependent variables\n",
    "X = data.drop(['target'], axis = 1)\n",
    "# independent variable\n",
    "y = data['target']\n",
    "\n",
    "# split data into train and validation part\n",
    "X_train, X_val, y_train, y_val = train_test_split(X, y, test_size = 0.3, random_state = 5)"
   ]
  },
  {
   "cell_type": "markdown",
   "id": "57f4d47b",
   "metadata": {},
   "source": [
    "## Handle Categorical variables"
   ]
  },
  {
   "cell_type": "code",
   "execution_count": 12,
   "id": "ec02f9df",
   "metadata": {},
   "outputs": [],
   "source": [
    "# encode categorical variable using LeaveOneOutEncoding technique\n",
    "from category_encoders import LeaveOneOutEncoder\n",
    "\n",
    "# columns to encode\n",
    "encode_cols = []\n",
    "\n",
    "# binary categorical columns\n",
    "bin_cat_cols = []\n",
    "\n",
    "for i in X_train.columns:\n",
    "#     categorical columns remaining\n",
    "    if(i in cat_vars and not (i in to_drop)):\n",
    "        if(len(X_train[i].value_counts().index)>2):\n",
    "#             non-binary valued columns\n",
    "            encode_cols.append(i)\n",
    "        else:\n",
    "#             binary valued columns\n",
    "            bin_cat_cols.append(i)\n",
    "\n",
    "# intialise encoder\n",
    "encoder = LeaveOneOutEncoder(cols = encode_cols)"
   ]
  },
  {
   "cell_type": "code",
   "execution_count": 13,
   "id": "8adbfc27",
   "metadata": {},
   "outputs": [],
   "source": [
    "# fit and encode data\n",
    "X_train_encoded = encoder.fit_transform(X_train, y_train)\n",
    "X_val_encoded = encoder.transform(X_val)"
   ]
  },
  {
   "cell_type": "code",
   "execution_count": 14,
   "id": "dfe9b693",
   "metadata": {},
   "outputs": [],
   "source": [
    "# encode binary categorical variables\n",
    "bin_code = {True : 1, False : 0}\n",
    "\n",
    "X_train_encoded = X_train_encoded.replace(bin_code)\n",
    "X_val_encoded = X_val_encoded.replace(bin_code)\n",
    "\n",
    "X_train_encoded['VAR_0466'] = X_train_encoded['VAR_0466'].replace({'I':1, \"-1\":0})\n",
    "X_val_encoded['VAR_0466'] = X_val_encoded['VAR_0466'].replace({'I':1, \"-1\":0})"
   ]
  },
  {
   "cell_type": "code",
   "execution_count": 15,
   "id": "1270629d",
   "metadata": {},
   "outputs": [
    {
     "name": "stdout",
     "output_type": "stream",
     "text": [
      "Columns with same minimum and 0.75th percentile are 519\n"
     ]
    }
   ],
   "source": [
    "# remove columns where min value is same as threshold percentile value\n",
    "columns_to_remove = []\n",
    "\n",
    "# threshold\n",
    "threshold_quantile = 0.75\n",
    "for i in data.columns:\n",
    "    if(i != 'target' and min(X_train_encoded[i]) == X_train_encoded[i].quantile(threshold_quantile)):\n",
    "        columns_to_remove.append(i)\n",
    "\n",
    "print(\"Columns with same minimum and {}th percentile are {}\".format(threshold_quantile, len(columns_to_remove)))"
   ]
  },
  {
   "cell_type": "code",
   "execution_count": 16,
   "id": "f5b70cad",
   "metadata": {},
   "outputs": [],
   "source": [
    "X_train_encoded = X_train_encoded.drop(columns_to_remove, axis = 1)\n",
    "X_val_encoded = X_val_encoded.drop(columns_to_remove, axis = 1)"
   ]
  },
  {
   "cell_type": "markdown",
   "id": "c98ad5c9",
   "metadata": {},
   "source": [
    "## Handle Outliers"
   ]
  },
  {
   "cell_type": "code",
   "execution_count": 17,
   "id": "018057a5",
   "metadata": {},
   "outputs": [],
   "source": [
    "def handleOutliers(data, to_return = False):\n",
    "    ''' \n",
    "    Removes outliers from each column and reports the data loss\n",
    "    \n",
    "    Args:\n",
    "        data (DataFrame) : The DataFrame to remove outliers from\n",
    "        to_return (bool) :  - Default value False\n",
    "                            - Whether to return the DataFrame after removing outliers\n",
    "    \n",
    "    Returns:\n",
    "        DataFrame : data free from outliers\n",
    "    '''\n",
    "#     calculate first quantile\n",
    "    Q1 = data.quantile(0.25)\n",
    "#     calculate third quantile\n",
    "    Q3 = data.quantile(0.75)\n",
    "#     calculate inter quartile range\n",
    "    IQR1 = Q3-Q1\n",
    "\n",
    "#     initialise data w/o outliers (drop outliers)\n",
    "    data_c = data[~((data < (Q1-1.5*IQR1))|(data > (Q3+1.5*IQR1))).any(axis = 1)] \n",
    "    \n",
    "#     report data loss\n",
    "    print('Data loss is {}%'.format(((len(data) - len(data_c))/len(data))*100))\n",
    "    \n",
    "    if(to_return):\n",
    "        return data_c.reset_index(drop = True)"
   ]
  },
  {
   "cell_type": "code",
   "execution_count": 18,
   "id": "07b7883a",
   "metadata": {
    "scrolled": false
   },
   "outputs": [
    {
     "name": "stdout",
     "output_type": "stream",
     "text": [
      "Data loss is 100.0%\n"
     ]
    }
   ],
   "source": [
    "handleOutliers(X_train_encoded)"
   ]
  },
  {
   "cell_type": "markdown",
   "id": "2acbd9cb",
   "metadata": {},
   "source": [
    "### Considering each feature individually for outlier analysis"
   ]
  },
  {
   "cell_type": "code",
   "execution_count": 19,
   "id": "2ea8ff77",
   "metadata": {},
   "outputs": [],
   "source": [
    "def countOutliers(data, column):\n",
    "    ''' \n",
    "    Calculates the number of outliers in given column\n",
    "    \n",
    "    Args:\n",
    "        data (DataFrame) : The dataset in form of Pandas DataFrame\n",
    "        column (string) : The column to report number of outliers in\n",
    "    \n",
    "    Returns:\n",
    "        int : percentage of outliers in column\n",
    "    '''\n",
    "#     calculate first quantile\n",
    "    Q1 = data[column].quantile(0.25)\n",
    "#     calculate third quantile\n",
    "    Q3 = data[column].quantile(0.75)\n",
    "#     calculate inter quartile range\n",
    "    IQR1 = Q3-Q1\n",
    "    \n",
    "#     % of outliers in the column\n",
    "    return (len(data[((data[column] < (Q1-1.5*IQR1))|(data[column] > (Q3+1.5*IQR1)))])/len(data))*100"
   ]
  },
  {
   "cell_type": "code",
   "execution_count": 20,
   "id": "2d959837",
   "metadata": {},
   "outputs": [],
   "source": [
    "# percentage of outliers in each column\n",
    "outliers = {}\n",
    "\n",
    "for column in X_train_encoded.columns:\n",
    "    outliers[column] = countOutliers(X_train_encoded, column)"
   ]
  },
  {
   "cell_type": "code",
   "execution_count": 21,
   "id": "16d863cc",
   "metadata": {},
   "outputs": [
    {
     "name": "stdout",
     "output_type": "stream",
     "text": [
      "Columns with more than 0% of values as Outliers are 927\n"
     ]
    }
   ],
   "source": [
    "# sort in decreasing order\n",
    "outliers = dict(sorted(outliers.items(), key=lambda item: item[1], reverse = True))\n",
    "\n",
    "# threshold percentage of outliers\n",
    "threshold_outliers = 0\n",
    "\n",
    "# remove columns with more than threshold\n",
    "to_drop_outliers = []\n",
    "\n",
    "for i in outliers:\n",
    "    if(outliers[i] <= threshold_outliers):\n",
    "        break\n",
    "    elif(i != 'target'):\n",
    "        to_drop_outliers.append(i)\n",
    "\n",
    "print(\"Columns with more than {}% of values as Outliers are {}\".format(threshold_outliers, len(to_drop_outliers)))"
   ]
  },
  {
   "cell_type": "code",
   "execution_count": 22,
   "id": "b3f56961",
   "metadata": {},
   "outputs": [],
   "source": [
    "# drop columns with oultiers\n",
    "X_train = X_train_encoded.drop(to_drop_outliers, axis = 1)"
   ]
  },
  {
   "cell_type": "code",
   "execution_count": 23,
   "id": "7b617b4f",
   "metadata": {},
   "outputs": [
    {
     "name": "stdout",
     "output_type": "stream",
     "text": [
      "Data loss is 0.0%\n"
     ]
    }
   ],
   "source": [
    "# check presence of outliers\n",
    "handleOutliers(X_train)"
   ]
  },
  {
   "cell_type": "code",
   "execution_count": 24,
   "id": "14baf0c4",
   "metadata": {},
   "outputs": [],
   "source": [
    "X_val = X_val_encoded.drop(to_drop_outliers, axis = 1)"
   ]
  },
  {
   "cell_type": "markdown",
   "id": "8f703f7d",
   "metadata": {},
   "source": [
    "## Scale Value"
   ]
  },
  {
   "cell_type": "code",
   "execution_count": 25,
   "id": "ba47a357",
   "metadata": {},
   "outputs": [],
   "source": [
    "from sklearn.preprocessing import StandardScaler\n",
    "\n",
    "# intialise StandardScaler\n",
    "scaler_PCA = StandardScaler()\n",
    "\n",
    "# Scale training data\n",
    "X_train_scaled = scaler_PCA.fit_transform(X_train)\n",
    "\n",
    "# Scale validation data\n",
    "X_val_scaled = scaler_PCA.transform(X_val)"
   ]
  },
  {
   "cell_type": "markdown",
   "id": "da848061",
   "metadata": {},
   "source": [
    "## Dimensionality Reduction"
   ]
  },
  {
   "cell_type": "markdown",
   "id": "59d8efa2",
   "metadata": {},
   "source": [
    "### Hyperparameters : \n",
    "#1 reduceDim : threshold_PCA"
   ]
  },
  {
   "cell_type": "code",
   "execution_count": 26,
   "id": "96d0206a",
   "metadata": {},
   "outputs": [],
   "source": [
    "scores = {}"
   ]
  },
  {
   "cell_type": "code",
   "execution_count": 27,
   "id": "365d0fd0",
   "metadata": {},
   "outputs": [],
   "source": [
    "from sklearn.decomposition import PCA\n",
    "\n",
    "def reduceDim(X_train, threshold_PCA):\n",
    "    ''' \n",
    "    Calculates number of Principal Components to retain \n",
    "    atleast \"threshold\" variance\n",
    "    \n",
    "    Args:\n",
    "        X_train (DataFrame) : The training dataset in form of Pandas DataFrame\n",
    "        threshold_PCA (float) : Minimum value of variance to retain\n",
    "    \n",
    "    Returns:\n",
    "        PCA object : The PCA instance to transform validation and test data\n",
    "        DataFrame : The transformed training dataset\n",
    "    '''\n",
    "#     intialise PCA\n",
    "    pca = PCA(n_components = threshold_PCA)\n",
    "#     fit and transform training data\n",
    "    X_train_PCA = pca.fit_transform(X_train)\n",
    "    \n",
    "#     print info\n",
    "    print(\"Number of columns retained : {} \\nNumber of columns in original dataset : {}\"\n",
    "          .format(X_train_PCA.shape[1], X_train.shape[1]))\n",
    "    \n",
    "    return (pca, X_train_PCA)"
   ]
  },
  {
   "cell_type": "code",
   "execution_count": 28,
   "id": "12b3ae3b",
   "metadata": {},
   "outputs": [
    {
     "name": "stdout",
     "output_type": "stream",
     "text": [
      "Number of columns retained : 119 \n",
      "Number of columns in original dataset : 445\n"
     ]
    }
   ],
   "source": [
    "threshold_PCA = 0.99\n",
    "pca, X_train_PCA = reduceDim(X_train_scaled, threshold_PCA)"
   ]
  },
  {
   "cell_type": "code",
   "execution_count": 29,
   "id": "1f10ec90",
   "metadata": {},
   "outputs": [],
   "source": [
    "# apply PCA to validation data\n",
    "X_val_PCA = pca.transform(X_val_scaled)"
   ]
  },
  {
   "cell_type": "markdown",
   "id": "4419c35c",
   "metadata": {},
   "source": [
    "## Handle Class Imbalance"
   ]
  },
  {
   "cell_type": "code",
   "execution_count": 30,
   "id": "f660f23f",
   "metadata": {
    "scrolled": true
   },
   "outputs": [],
   "source": [
    "from imblearn.over_sampling import SMOTE #to over sample minority class (outcome = 1)\n",
    "from imblearn.under_sampling import RandomUnderSampler #to under sample majority class (outcome = 0)"
   ]
  },
  {
   "cell_type": "code",
   "execution_count": 31,
   "id": "1b3ebb4a",
   "metadata": {},
   "outputs": [
    {
     "data": {
      "image/png": "[encoded data removed]",
      "text/plain": [
       "<Figure size 720x504 with 2 Axes>"
      ]
     },
     "metadata": {},
     "output_type": "display_data"
    }
   ],
   "source": [
    "f, ax = plt.subplots(nrows = 1, ncols = 2, figsize = (10, 7)) # set up plot \n",
    "\n",
    "# visualise distribution in Ytrain\n",
    "\n",
    "sns.countplot(x = y_train, ax = ax[0]) # plot bar plot\n",
    "\n",
    "# plot a pie chart\n",
    "ax[1].pie(x = y_train.value_counts().values, labels = y_train.value_counts().index, autopct = \"%.2f%%\")\n",
    "ax[1].set_title(\"Percentage distribution\") # set title\n",
    "\n",
    "# display plots\n",
    "plt.show()"
   ]
  },
  {
   "cell_type": "code",
   "execution_count": 32,
   "id": "083c86a3",
   "metadata": {},
   "outputs": [],
   "source": [
    "# apply SMOTE to balance target variable\n",
    "smote = SMOTE(sampling_strategy = 1, k_neighbors = 5, random_state = 9)\n",
    "# undersample Majority class (target = 1)\n",
    "under = RandomUnderSampler(sampling_strategy = 1, random_state = 9) \n",
    "\n",
    "X_train_bal, y_train_bal = smote.fit_resample(X_train_PCA, y_train) #apply oversampling\n",
    "X_train_bal, y_train_bal = under.fit_resample(X_train_bal, y_train_bal) #apply undersampling"
   ]
  },
  {
   "cell_type": "markdown",
   "id": "fbc782d9",
   "metadata": {},
   "source": [
    "## Correct Skewness"
   ]
  },
  {
   "cell_type": "code",
   "execution_count": 33,
   "id": "fd98437c",
   "metadata": {},
   "outputs": [],
   "source": [
    "def removeSkew(X, skew_index):\n",
    "    ''' \n",
    "    Removes columns with skew distribution using \"skew_index\" array\n",
    "    \n",
    "    Args:\n",
    "        X (Numpy Array) : The dataset to remove skew columns from\n",
    "        skew_index (Numpy Array) : List of columns to remove from \"X\"\n",
    "    \n",
    "    Returns:\n",
    "        Numpy Array : The data without skew columns\n",
    "    '''\n",
    "    return np.array(pd.DataFrame(X).drop(skew_index, axis=1))"
   ]
  },
  {
   "cell_type": "code",
   "execution_count": 34,
   "id": "46747340",
   "metadata": {
    "scrolled": true
   },
   "outputs": [
    {
     "name": "stdout",
     "output_type": "stream",
     "text": [
      "Number of columns with skew distribution : 14\n"
     ]
    }
   ],
   "source": [
    "# conver NP array to pandas DF\n",
    "skew = pd.DataFrame(X_train_bal).skew()\n",
    "\n",
    "# columns with asymmetrical distribution\n",
    "skew_index = np.array(skew[~((skew>=-0.5) & (skew <= 0.5))].index)\n",
    "\n",
    "print(\"Number of columns with skew distribution : {}\".format(len(skew_index)))\n",
    "\n",
    "# remove skewed columns\n",
    "X_train_normal = removeSkew(X_train_bal, skew_index)\n",
    "X_val_normal = removeSkew(X_val_PCA, skew_index)"
   ]
  },
  {
   "cell_type": "code",
   "execution_count": 35,
   "id": "44bd9e3f",
   "metadata": {},
   "outputs": [],
   "source": [
    "# intialise StandardScaler\n",
    "scaler = StandardScaler()\n",
    "\n",
    "# Scale training data\n",
    "X_train_normal_scaled = scaler.fit_transform(X_train_normal)\n",
    "\n",
    "# Scale validation data\n",
    "X_val_normal_scaled = scaler.transform(X_val_normal)"
   ]
  },
  {
   "cell_type": "markdown",
   "id": "426bc7ca",
   "metadata": {},
   "source": [
    "# Machine Learning"
   ]
  },
  {
   "cell_type": "code",
   "execution_count": 36,
   "id": "c8857a30",
   "metadata": {},
   "outputs": [],
   "source": [
    "from sklearn.metrics import roc_auc_score\n",
    "\n",
    "def getScore(clf, X, y):\n",
    "    ''' \n",
    "    Calculates roc_auc_score for the given data using \"clf\"\n",
    "    \n",
    "    Args:\n",
    "        clf : The instance for classification algorithm\n",
    "        X (Numpy Array) : The dependent variables\n",
    "        y (Numpy Array) : The independent variables\n",
    "    \n",
    "    Returns:\n",
    "        float : The score calculated\n",
    "    '''\n",
    "    return roc_auc_score(y, clf.predict(X))"
   ]
  },
  {
   "cell_type": "code",
   "execution_count": 37,
   "id": "77809330",
   "metadata": {},
   "outputs": [],
   "source": [
    "def printReport(clf, X_train, y_train, X_val, y_val):\n",
    "    ''' \n",
    "    reports roc_auc_score for the training and validation data using \"clf\"\n",
    "    \n",
    "    Args:\n",
    "        clf : The instance for classification algorithm\n",
    "        X_train (Numpy Array) : The dependent variables for training\n",
    "        y_train (Numpy Array) : The independent variables for training\n",
    "        X_val (Numpy Array) : The dependent variables for validation\n",
    "        y_val (Numpy Array) : The independent variables for validation\n",
    "    \n",
    "    Returns:\n",
    "        (float, float) : Training & Validation score\n",
    "    '''\n",
    "#     find scores\n",
    "    train_score = getScore(clf, X_train, y_train)\n",
    "    val_score = getScore(clf, X_val, y_val)\n",
    "    \n",
    "    print(\"Training Score : {}\\nValidation Score: {}\".format(train_score, val_score))\n",
    "    \n",
    "    return (train_score, val_score)"
   ]
  },
  {
   "cell_type": "code",
   "execution_count": 189,
   "id": "8decfb2b",
   "metadata": {},
   "outputs": [
    {
     "data": {
      "text/plain": [
       "GridSearchCV(estimator=LogisticRegression(),\n",
       "             param_grid={'C': [0.0001, 0.0003, 0.0005, 0.001, 0.003, 0.005,\n",
       "                               0.01, 0.03, 0.05, 0.1, 0.3, 0.5]})"
      ]
     },
     "execution_count": 189,
     "metadata": {},
     "output_type": "execute_result"
    }
   ],
   "source": [
    "from sklearn.linear_model import LogisticRegression\n",
    "from sklearn.model_selection import GridSearchCV #import GridSearchCV\n",
    "\n",
    "params = {'C' : [0.0001, 0.0003, 0.0005, 0.001, 0.003, 0.005, 0.01, 0.03, 0.05, 0.1, 0.3, 0.5]} # values of C parameter in LR to try for\n",
    "\n",
    "clf_lr = GridSearchCV(LogisticRegression(), params) # Logistic Regression\n",
    "\n",
    "clf_lr.fit(X_train_normal_scaled, y_train_bal) # train LR model"
   ]
  },
  {
   "cell_type": "code",
   "execution_count": 190,
   "id": "2616063b",
   "metadata": {},
   "outputs": [
    {
     "name": "stdout",
     "output_type": "stream",
     "text": [
      "Training Score : 0.6610864197530864\n",
      "Validation Score: 0.6376611530459602\n"
     ]
    }
   ],
   "source": [
    "# report scores\n",
    "lr_scores = printReport(clf_lr, X_train_normal_scaled, y_train_bal, X_val_normal_scaled, y_val)\n",
    "scores[threshold_PCA] = [{\"lr\":lr_scores}]"
   ]
  },
  {
   "cell_type": "code",
   "execution_count": 199,
   "id": "6d5db32e",
   "metadata": {},
   "outputs": [
    {
     "data": {
      "text/plain": [
       "LGBMClassifier()"
      ]
     },
     "execution_count": 199,
     "metadata": {},
     "output_type": "execute_result"
    }
   ],
   "source": [
    "from lightgbm import LGBMClassifier\n",
    "\n",
    "# intialise LGBM algorithm\n",
    "clf_lgbm = LGBMClassifier()\n",
    "\n",
    "# fit on training data\n",
    "clf_lgbm.fit(X_train_normal_scaled, y_train_bal)"
   ]
  },
  {
   "cell_type": "code",
   "execution_count": 200,
   "id": "391e3234",
   "metadata": {},
   "outputs": [
    {
     "name": "stdout",
     "output_type": "stream",
     "text": [
      "Training Score : 0.7900529100529101\n",
      "Validation Score: 0.6078303354453595\n"
     ]
    }
   ],
   "source": [
    "# report scores\n",
    "lgbm_scores = printReport(clf_lgbm, X_train_normal_scaled, y_train_bal, X_val_normal_scaled, y_val)\n",
    "scores[threshold_PCA].append({\"lgbm\":lgbm_scores})"
   ]
  },
  {
   "cell_type": "code",
   "execution_count": 197,
   "id": "6840aedb",
   "metadata": {},
   "outputs": [
    {
     "data": {
      "text/plain": [
       "GaussianNB()"
      ]
     },
     "execution_count": 197,
     "metadata": {},
     "output_type": "execute_result"
    }
   ],
   "source": [
    "from sklearn.naive_bayes import GaussianNB\n",
    "\n",
    "# intialise Gaussian Naive Bayes\n",
    "clf_nb = GaussianNB()\n",
    "\n",
    "# fit \n",
    "clf_nb.fit(X_train_normal_scaled, y_train_bal)"
   ]
  },
  {
   "cell_type": "code",
   "execution_count": 198,
   "id": "bc311a37",
   "metadata": {},
   "outputs": [
    {
     "name": "stdout",
     "output_type": "stream",
     "text": [
      "Training Score : 0.695358024691358\n",
      "Validation Score: 0.5403479882018833\n"
     ]
    }
   ],
   "source": [
    "# report scores\n",
    "nb_scores = printReport(clf_nb, X_train_normal_scaled, y_train_bal, X_val_normal_scaled, y_val)\n",
    "scores[threshold_PCA].append({\"nb\":nb_scores})"
   ]
  },
  {
   "cell_type": "code",
   "execution_count": 191,
   "id": "5d832879",
   "metadata": {},
   "outputs": [
    {
     "data": {
      "text/plain": [
       "GridSearchCV(estimator=SGDClassifier(early_stopping=True, max_iter=20000),\n",
       "             param_grid={'alpha': [0.01, 0.03, 0.05, 0.08, 0.001, 0.003, 0.005,\n",
       "                                   0.007, 0.0001, 0.0003, 0.0005, 0.0007]})"
      ]
     },
     "execution_count": 191,
     "metadata": {},
     "output_type": "execute_result"
    }
   ],
   "source": [
    "from sklearn.linear_model import SGDClassifier\n",
    "\n",
    "# params to try for SGD\n",
    "params_SGD = {\n",
    "    \"alpha\" : [0.01, 0.03, 0.05, 0.08, 0.001, 0.003, 0.005, 0.007, 0.0001, 0.0003, 0.0005, 0.0007]\n",
    "}\n",
    "\n",
    "# intialise Stochastic Gradient Descent Classifier\n",
    "clf_SGD = GridSearchCV(SGDClassifier(max_iter = 20000, early_stopping=True), params_SGD)\n",
    "\n",
    "# fit\n",
    "clf_SGD.fit(X_train_normal_scaled, y_train_bal)"
   ]
  },
  {
   "cell_type": "code",
   "execution_count": 192,
   "id": "293ae8ef",
   "metadata": {},
   "outputs": [
    {
     "name": "stdout",
     "output_type": "stream",
     "text": [
      "Training Score : 0.6596543209876544\n",
      "Validation Score: 0.6374191852651065\n"
     ]
    }
   ],
   "source": [
    "# report scores\n",
    "sgd_scores = printReport(clf_SGD, X_train_normal_scaled, y_train_bal, X_val_normal_scaled, y_val)\n",
    "scores[threshold_PCA].append({\"sgd\":sgd_scores})"
   ]
  },
  {
   "cell_type": "code",
   "execution_count": 201,
   "id": "2f548115",
   "metadata": {},
   "outputs": [],
   "source": [
    "# data to plot\n",
    "vals_plot_alg = []\n",
    "\n",
    "# \n",
    "for i in scores:\n",
    "    for j in scores[i]:\n",
    "        for k in j:\n",
    "            vals_plot_alg.append([i, k, j[k][1]])"
   ]
  },
  {
   "cell_type": "code",
   "execution_count": 202,
   "id": "121a6f8c",
   "metadata": {},
   "outputs": [],
   "source": [
    "scores_df = pd.DataFrame(vals_plot_alg, columns=['threshold_PCA', 'Algorithm', 'val_score'])\n",
    "\n",
    "scores_df.to_csv(\"Algo_report.csv\", index = False)"
   ]
  },
  {
   "cell_type": "code",
   "execution_count": 203,
   "id": "441bb403",
   "metadata": {},
   "outputs": [
    {
     "data": {
      "text/plain": [
       "[]"
      ]
     },
     "execution_count": 203,
     "metadata": {},
     "output_type": "execute_result"
    },
    {
     "data": {
      "image/png": "[encoded data removed]",
      "text/plain": [
       "<Figure size 720x504 with 1 Axes>"
      ]
     },
     "metadata": {},
     "output_type": "display_data"
    }
   ],
   "source": [
    "f, ax = plt.subplots(nrows = 1, ncols = 1, figsize = (10, 7)) # set up plot \n",
    "sns.lineplot(x = 'threshold_PCA', y = 'val_score', hue = 'Algorithm', data = scores_df, ax = ax)\n",
    "plt.plot()"
   ]
  },
  {
   "cell_type": "markdown",
   "id": "4597d0f0",
   "metadata": {},
   "source": [
    "### Base Model : SGDClassifier\n",
    "#### Val Score  = 0.637"
   ]
  },
  {
   "cell_type": "markdown",
   "id": "4bbca816",
   "metadata": {},
   "source": [
    "# Deep Learning"
   ]
  },
  {
   "cell_type": "code",
   "execution_count": 60,
   "id": "ab34af02",
   "metadata": {},
   "outputs": [],
   "source": [
    "import keras\n",
    "from keras.models import Sequential\n",
    "from keras.layers import Dense\n",
    "from keras.layers import Dropout\n",
    "model = Sequential([Dense(256, activation = 'relu', input_dim = X_train_normal_scaled.shape[1]),\n",
    "                    Dropout(0.8),\n",
    "           Dense(256, activation = 'relu'),\n",
    "           Dense(512, activation = 'relu'),\n",
    "           Dense(512, activation = 'relu'),\n",
    "                    Dropout(0.8),\n",
    "#            Dense(1024, activation = 'relu'),\n",
    "#            Dense(1024, activation = 'relu'),\n",
    "           Dense(1024, activation = 'relu'),\n",
    "           Dense(1024, activation = 'relu'),\n",
    "                    Dropout(0.8),\n",
    "           Dense(512, activation = 'relu'),\n",
    "           Dense(512, activation = 'relu'),\n",
    "           Dense(256, activation = 'relu'),\n",
    "           Dense(256, activation = 'relu'),\n",
    "                    Dropout(0.8),\n",
    "           Dense(1, activation = 'sigmoid')\n",
    "            ]\n",
    "          )\n",
    "\n",
    "model.compile(optimizer = 'adam', loss = 'BinaryCrossentropy', metrics = 'AUC')"
   ]
  },
  {
   "cell_type": "code",
   "execution_count": 61,
   "id": "42271978",
   "metadata": {},
   "outputs": [
    {
     "name": "stdout",
     "output_type": "stream",
     "text": [
      "Model: \"sequential_3\"\n",
      "_________________________________________________________________\n",
      " Layer (type)                Output Shape              Param #   \n",
      "=================================================================\n",
      " dense_33 (Dense)            (None, 256)               27136     \n",
      "                                                                 \n",
      " dropout_8 (Dropout)         (None, 256)               0         \n",
      "                                                                 \n",
      " dense_34 (Dense)            (None, 256)               65792     \n",
      "                                                                 \n",
      " dense_35 (Dense)            (None, 512)               131584    \n",
      "                                                                 \n",
      " dense_36 (Dense)            (None, 512)               262656    \n",
      "                                                                 \n",
      " dropout_9 (Dropout)         (None, 512)               0         \n",
      "                                                                 \n",
      " dense_37 (Dense)            (None, 1024)              525312    \n",
      "                                                                 \n",
      " dense_38 (Dense)            (None, 1024)              1049600   \n",
      "                                                                 \n",
      " dropout_10 (Dropout)        (None, 1024)              0         \n",
      "                                                                 \n",
      " dense_39 (Dense)            (None, 512)               524800    \n",
      "                                                                 \n",
      " dense_40 (Dense)            (None, 512)               262656    \n",
      "                                                                 \n",
      " dense_41 (Dense)            (None, 256)               131328    \n",
      "                                                                 \n",
      " dense_42 (Dense)            (None, 256)               65792     \n",
      "                                                                 \n",
      " dropout_11 (Dropout)        (None, 256)               0         \n",
      "                                                                 \n",
      " dense_43 (Dense)            (None, 1)                 257       \n",
      "                                                                 \n",
      "=================================================================\n",
      "Total params: 3,046,913\n",
      "Trainable params: 3,046,913\n",
      "Non-trainable params: 0\n",
      "_________________________________________________________________\n"
     ]
    }
   ],
   "source": [
    "model.summary()"
   ]
  },
  {
   "cell_type": "code",
   "execution_count": 58,
   "id": "5860f72a",
   "metadata": {},
   "outputs": [],
   "source": [
    "from keras.callbacks import ReduceLROnPlateau\n",
    "from keras.callbacks import EarlyStopping\n",
    "from keras.callbacks import ModelCheckpoint\n",
    "\n",
    "es = EarlyStopping(monitor='val_loss', mode='min', verbose=1, patience=2)\n",
    "learning_rate_reduction = ReduceLROnPlateau(monitor = 'val_auc',\n",
    "                       patience = 3,\n",
    "                       verbose = 1,\n",
    "                       factor = 0.5,\n",
    "                       min_lr=0.00001)\n",
    "model_checkpoint_callback = ModelCheckpoint(\n",
    "    filepath='0002model_nn',\n",
    "    save_weights_only=True,\n",
    "    monitor='val_auc',\n",
    "    mode='max',\n",
    "    save_best_only=True)\n"
   ]
  },
  {
   "cell_type": "code",
   "execution_count": 62,
   "id": "16b0034f",
   "metadata": {},
   "outputs": [
    {
     "name": "stdout",
     "output_type": "stream",
     "text": [
      "Epoch 1/25\n",
      "4430/4430 [==============================] - 157s 35ms/step - loss: 0.6423 - auc: 0.6853 - val_loss: 0.9891 - val_auc: 0.6771 - lr: 0.0010\n",
      "Epoch 2/25\n",
      "4430/4430 [==============================] - 154s 35ms/step - loss: 0.6052 - auc: 0.7395 - val_loss: 1.0769 - val_auc: 0.6831 - lr: 0.0010\n",
      "Epoch 3/25\n",
      "4430/4430 [==============================] - ETA: 0s - loss: 0.5918 - auc: 0.7552\n",
      "Epoch 00003: ReduceLROnPlateau reducing learning rate to 0.0005000000237487257.\n",
      "4430/4430 [==============================] - 155s 35ms/step - loss: 0.5918 - auc: 0.7552 - val_loss: 0.9702 - val_auc: 0.6933 - lr: 0.0010\n",
      "Epoch 4/25\n",
      "4430/4430 [==============================] - 159s 36ms/step - loss: 0.5721 - auc: 0.7749 - val_loss: 1.1562 - val_auc: 0.6936 - lr: 5.0000e-04\n",
      "Epoch 5/25\n",
      "4430/4430 [==============================] - ETA: 0s - loss: 0.5641 - auc: 0.7836\n",
      "Epoch 00005: ReduceLROnPlateau reducing learning rate to 0.0002500000118743628.\n",
      "4430/4430 [==============================] - 152s 34ms/step - loss: 0.5641 - auc: 0.7836 - val_loss: 1.2641 - val_auc: 0.6924 - lr: 5.0000e-04\n",
      "Epoch 6/25\n",
      "4430/4430 [==============================] - 156s 35ms/step - loss: 0.5551 - auc: 0.7914 - val_loss: 1.2206 - val_auc: 0.6942 - lr: 2.5000e-04\n",
      "Epoch 7/25\n",
      "4430/4430 [==============================] - ETA: 0s - loss: 0.5496 - auc: 0.7966\n",
      "Epoch 00007: ReduceLROnPlateau reducing learning rate to 0.0001250000059371814.\n",
      "4430/4430 [==============================] - 157s 35ms/step - loss: 0.5496 - auc: 0.7966 - val_loss: 1.2354 - val_auc: 0.6944 - lr: 2.5000e-04\n",
      "Epoch 8/25\n",
      "4430/4430 [==============================] - 158s 36ms/step - loss: 0.5437 - auc: 0.8018 - val_loss: 1.2996 - val_auc: 0.6941 - lr: 1.2500e-04\n",
      "Epoch 9/25\n",
      "4429/4430 [============================>.] - ETA: 0s - loss: 0.5403 - auc: 0.8050\n",
      "Epoch 00009: ReduceLROnPlateau reducing learning rate to 6.25000029685907e-05.\n",
      "4430/4430 [==============================] - 158s 36ms/step - loss: 0.5403 - auc: 0.8050 - val_loss: 1.3606 - val_auc: 0.6938 - lr: 1.2500e-04\n",
      "Epoch 10/25\n",
      "4430/4430 [==============================] - 158s 36ms/step - loss: 0.5387 - auc: 0.8062 - val_loss: 1.3739 - val_auc: 0.6938 - lr: 6.2500e-05\n",
      "Epoch 11/25\n",
      "4429/4430 [============================>.] - ETA: 0s - loss: 0.5381 - auc: 0.8071\n",
      "Epoch 00011: ReduceLROnPlateau reducing learning rate to 3.125000148429535e-05.\n",
      "4430/4430 [==============================] - 159s 36ms/step - loss: 0.5381 - auc: 0.8071 - val_loss: 1.3587 - val_auc: 0.6940 - lr: 6.2500e-05\n",
      "Epoch 12/25\n",
      "4430/4430 [==============================] - 159s 36ms/step - loss: 0.5368 - auc: 0.8075 - val_loss: 1.3496 - val_auc: 0.6942 - lr: 3.1250e-05\n",
      "Epoch 13/25\n",
      "4429/4430 [============================>.] - ETA: 0s - loss: 0.5363 - auc: 0.8082\n",
      "Epoch 00013: ReduceLROnPlateau reducing learning rate to 1.5625000742147677e-05.\n",
      "4430/4430 [==============================] - 158s 36ms/step - loss: 0.5363 - auc: 0.8082 - val_loss: 1.3972 - val_auc: 0.6936 - lr: 3.1250e-05\n",
      "Epoch 14/25\n",
      "4430/4430 [==============================] - 157s 35ms/step - loss: 0.5338 - auc: 0.8099 - val_loss: 1.4144 - val_auc: 0.6937 - lr: 1.5625e-05\n",
      "Epoch 15/25\n",
      "4429/4430 [============================>.] - ETA: 0s - loss: 0.5341 - auc: 0.8099\n",
      "Epoch 00015: ReduceLROnPlateau reducing learning rate to 1e-05.\n",
      "4430/4430 [==============================] - 157s 35ms/step - loss: 0.5341 - auc: 0.8099 - val_loss: 1.3916 - val_auc: 0.6939 - lr: 1.5625e-05\n",
      "Epoch 16/25\n",
      "4430/4430 [==============================] - 157s 35ms/step - loss: 0.5332 - auc: 0.8108 - val_loss: 1.3954 - val_auc: 0.6937 - lr: 1.0000e-05\n",
      "Epoch 17/25\n",
      "4430/4430 [==============================] - 156s 35ms/step - loss: 0.5336 - auc: 0.8102 - val_loss: 1.4072 - val_auc: 0.6935 - lr: 1.0000e-05\n",
      "Epoch 18/25\n",
      "4430/4430 [==============================] - 157s 35ms/step - loss: 0.5324 - auc: 0.8114 - val_loss: 1.4093 - val_auc: 0.6934 - lr: 1.0000e-05\n",
      "Epoch 19/25\n",
      "4430/4430 [==============================] - 158s 36ms/step - loss: 0.5346 - auc: 0.8097 - val_loss: 1.4028 - val_auc: 0.6935 - lr: 1.0000e-05\n",
      "Epoch 20/25\n",
      "4430/4430 [==============================] - 160s 36ms/step - loss: 0.5335 - auc: 0.8103 - val_loss: 1.4057 - val_auc: 0.6934 - lr: 1.0000e-05\n",
      "Epoch 21/25\n",
      "4430/4430 [==============================] - 159s 36ms/step - loss: 0.5321 - auc: 0.8119 - val_loss: 1.4070 - val_auc: 0.6933 - lr: 1.0000e-05\n",
      "Epoch 22/25\n",
      "4430/4430 [==============================] - 159s 36ms/step - loss: 0.5327 - auc: 0.8108 - val_loss: 1.4135 - val_auc: 0.6931 - lr: 1.0000e-05\n",
      "Epoch 23/25\n",
      "4430/4430 [==============================] - 160s 36ms/step - loss: 0.5333 - auc: 0.8105 - val_loss: 1.4117 - val_auc: 0.6931 - lr: 1.0000e-05\n",
      "Epoch 24/25\n",
      "4430/4430 [==============================] - 158s 36ms/step - loss: 0.5316 - auc: 0.8123 - val_loss: 1.4215 - val_auc: 0.6928 - lr: 1.0000e-05\n",
      "Epoch 25/25\n",
      "4430/4430 [==============================] - 157s 35ms/step - loss: 0.5322 - auc: 0.8118 - val_loss: 1.4147 - val_auc: 0.6930 - lr: 1.0000e-05\n"
     ]
    },
    {
     "data": {
      "text/plain": [
       "<keras.callbacks.History at 0x7fc74552e8b0>"
      ]
     },
     "execution_count": 62,
     "metadata": {},
     "output_type": "execute_result"
    }
   ],
   "source": [
    "model.fit(X_train_normal_scaled, y_train_bal, epochs = 30, validation_data = (X_val_normal_scaled, y_val),\n",
    "         callbacks = [learning_rate_reduction, model_checkpoint_callback])"
   ]
  },
  {
   "cell_type": "code",
   "execution_count": 63,
   "id": "11183cc2",
   "metadata": {},
   "outputs": [
    {
     "name": "stdout",
     "output_type": "stream",
     "text": [
      "Training Score : 0.840030790627362\n",
      "Validation Score: 0.6933259863764278\n"
     ]
    },
    {
     "data": {
      "text/plain": [
       "(0.840030790627362, 0.6933259863764278)"
      ]
     },
     "execution_count": 63,
     "metadata": {},
     "output_type": "execute_result"
    }
   ],
   "source": [
    "printReport(model, X_train_normal_scaled, y_train_bal, X_val_normal_scaled, y_val)"
   ]
  },
  {
   "cell_type": "code",
   "execution_count": null,
   "id": "5ccbdf3d",
   "metadata": {},
   "outputs": [],
   "source": []
  }
 ],
 "metadata": {
  "kernelspec": {
   "display_name": "Python 3",
   "language": "python",
   "name": "python3"
  },
  "language_info": {
   "codemirror_mode": {
    "name": "ipython",
    "version": 3
   },
   "file_extension": ".py",
   "mimetype": "text/x-python",
   "name": "python",
   "nbconvert_exporter": "python",
   "pygments_lexer": "ipython3",
   "version": "3.8.8"
  }
 },
 "nbformat": 4,
 "nbformat_minor": 5
}
